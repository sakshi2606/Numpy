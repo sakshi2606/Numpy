{
 "cells": [
  {
   "cell_type": "markdown",
   "id": "56ce0c0c",
   "metadata": {},
   "source": [
    "# Numpy"
   ]
  },
  {
   "cell_type": "markdown",
   "id": "1625acea",
   "metadata": {},
   "source": [
    "Numpy is a general-purpose array processing package.It provides tools for working with multi-dimensional array objects."
   ]
  },
  {
   "cell_type": "markdown",
   "id": "a6fc589d",
   "metadata": {},
   "source": [
    "### What is an array\n",
    "\n",
    "An array is a data structure that stores values of same data type. In Python, this is the difference between arrays and lists. While lists can contain values corresponding to different data types; arrays can only contain values of same data type. Arrays are always created using square brackets[]\n"
   ]
  },
  {
   "cell_type": "code",
   "execution_count": 5,
   "id": "e510ece3",
   "metadata": {},
   "outputs": [],
   "source": [
    "import numpy as np                   #import the numpy library (np is the alias name used for numpy)"
   ]
  },
  {
   "cell_type": "code",
   "execution_count": 4,
   "id": "b58c5ad7",
   "metadata": {},
   "outputs": [
    {
     "data": {
      "text/plain": [
       "numpy.ndarray"
      ]
     },
     "execution_count": 4,
     "metadata": {},
     "output_type": "execute_result"
    }
   ],
   "source": [
    "arr=np.array([1,2,3,4,5])           #np.array is used to create an array, the array is always created starting with () & then[]\n",
    "\n",
    "type(arr)"
   ]
  },
  {
   "cell_type": "code",
   "execution_count": 5,
   "id": "979438f8",
   "metadata": {},
   "outputs": [
    {
     "data": {
      "text/plain": [
       "(5,)"
      ]
     },
     "execution_count": 5,
     "metadata": {},
     "output_type": "execute_result"
    }
   ],
   "source": [
    "arr.shape                          #this will always give the shape of the array (r,c)"
   ]
  },
  {
   "cell_type": "code",
   "execution_count": 9,
   "id": "0e2e3ad7",
   "metadata": {},
   "outputs": [],
   "source": [
    "# Multidimensional Array\n",
    "\n",
    "mul_arr=np.array([[1,2,3,4,5],\n",
    "                  [6,7,8,9,10],\n",
    "                  [11,12,13,14,15]])       #you can determine dimensions of array based on square brackets(this array is 2-D)"
   ]
  },
  {
   "cell_type": "code",
   "execution_count": 10,
   "id": "c8c52c9c",
   "metadata": {},
   "outputs": [
    {
     "data": {
      "text/plain": [
       "(3, 5)"
      ]
     },
     "execution_count": 10,
     "metadata": {},
     "output_type": "execute_result"
    }
   ],
   "source": [
    "mul_arr.shape"
   ]
  },
  {
   "cell_type": "code",
   "execution_count": 13,
   "id": "7f86df33",
   "metadata": {},
   "outputs": [
    {
     "data": {
      "text/plain": [
       "array([[ 1,  2,  3],\n",
       "       [ 4,  5,  6],\n",
       "       [ 7,  8,  9],\n",
       "       [10, 11, 12],\n",
       "       [13, 14, 15]])"
      ]
     },
     "execution_count": 13,
     "metadata": {},
     "output_type": "execute_result"
    }
   ],
   "source": [
    "mul_arr.reshape(5,3)                   #you can reshape the array the way you want but the values inside cannot exceed r*c value"
   ]
  },
  {
   "cell_type": "code",
   "execution_count": 17,
   "id": "9c45b1b0",
   "metadata": {},
   "outputs": [],
   "source": [
    " # Accessng the array elements(Indeing)\n",
    "    \n",
    "arr=np.array([1,2,3,4,5])"
   ]
  },
  {
   "cell_type": "code",
   "execution_count": 18,
   "id": "16d2d067",
   "metadata": {},
   "outputs": [
    {
     "data": {
      "text/plain": [
       "4"
      ]
     },
     "execution_count": 18,
     "metadata": {},
     "output_type": "execute_result"
    }
   ],
   "source": [
    "arr[3]                              #you can access the elements using the index values"
   ]
  },
  {
   "cell_type": "code",
   "execution_count": 19,
   "id": "41d962c8",
   "metadata": {},
   "outputs": [
    {
     "name": "stdout",
     "output_type": "stream",
     "text": [
      "[1 2 3 3 5]\n"
     ]
    }
   ],
   "source": [
    "arr[3]=3                            #you can also update the elements usig the index values\n",
    "print(arr)"
   ]
  },
  {
   "cell_type": "code",
   "execution_count": 38,
   "id": "cef989e6",
   "metadata": {},
   "outputs": [],
   "source": [
    "mul_arr=np.array([[1,2,3,4,5],\n",
    "                  [6,7,8,9,10],\n",
    "                  [11,12,13,14,15]])"
   ]
  },
  {
   "cell_type": "code",
   "execution_count": 40,
   "id": "1fff914e",
   "metadata": {},
   "outputs": [
    {
     "data": {
      "text/plain": [
       "array([[ 8,  9, 10],\n",
       "       [13, 14, 15]])"
      ]
     },
     "execution_count": 40,
     "metadata": {},
     "output_type": "execute_result"
    }
   ],
   "source": [
    "mul_arr[1:,2:]                   # in multidimensional the left is always row and right is always column(similar to slicing to access the elements)"
   ]
  },
  {
   "cell_type": "code",
   "execution_count": 41,
   "id": "1a9847ac",
   "metadata": {},
   "outputs": [
    {
     "data": {
      "text/plain": [
       "array([[ 1,  2,  3,  4,  5],\n",
       "       [16,  7,  8,  9, 10],\n",
       "       [11, 12, 13, 14, 15]])"
      ]
     },
     "execution_count": 41,
     "metadata": {},
     "output_type": "execute_result"
    }
   ],
   "source": [
    "mul_arr[1,0]=16                  # you can also update the element by directly accessing it\n",
    "mul_arr"
   ]
  },
  {
   "cell_type": "code",
   "execution_count": 47,
   "id": "a2b82bcd",
   "metadata": {},
   "outputs": [
    {
     "name": "stdout",
     "output_type": "stream",
     "text": [
      "arr2=  [0 1 2 3 4 5 6 7 8 9]\n",
      "arr3=  [ 0  2  4  6  8 10 12 14 16 18]\n"
     ]
    }
   ],
   "source": [
    "arr2=np.arange(0,10)          # arange func-used to generate array (start,stop,step_size) if step size not mentioned bydefault-1\n",
    "print(\"arr2= \", arr2)\n",
    "\n",
    "arr3=np.arange(0,20,2)       # here we gave stepsize as 2 \n",
    "print(\"arr3= \", arr3)"
   ]
  },
  {
   "cell_type": "code",
   "execution_count": 48,
   "id": "72b7a652",
   "metadata": {},
   "outputs": [
    {
     "data": {
      "text/plain": [
       "array([ 1.        ,  1.48979592,  1.97959184,  2.46938776,  2.95918367,\n",
       "        3.44897959,  3.93877551,  4.42857143,  4.91836735,  5.40816327,\n",
       "        5.89795918,  6.3877551 ,  6.87755102,  7.36734694,  7.85714286,\n",
       "        8.34693878,  8.83673469,  9.32653061,  9.81632653, 10.30612245,\n",
       "       10.79591837, 11.28571429, 11.7755102 , 12.26530612, 12.75510204,\n",
       "       13.24489796, 13.73469388, 14.2244898 , 14.71428571, 15.20408163,\n",
       "       15.69387755, 16.18367347, 16.67346939, 17.16326531, 17.65306122,\n",
       "       18.14285714, 18.63265306, 19.12244898, 19.6122449 , 20.10204082,\n",
       "       20.59183673, 21.08163265, 21.57142857, 22.06122449, 22.55102041,\n",
       "       23.04081633, 23.53061224, 24.02040816, 24.51020408, 25.        ])"
      ]
     },
     "execution_count": 48,
     "metadata": {},
     "output_type": "execute_result"
    }
   ],
   "source": [
    "np.linspace(start=1,stop=25,num=50)     #50 equally spaced points are created between 1 and 25"
   ]
  },
  {
   "cell_type": "code",
   "execution_count": 49,
   "id": "fc282210",
   "metadata": {},
   "outputs": [
    {
     "data": {
      "text/plain": [
       "array([  0,   1,   2, 100, 100, 100, 100, 100, 100, 100])"
      ]
     },
     "execution_count": 49,
     "metadata": {},
     "output_type": "execute_result"
    }
   ],
   "source": [
    "arr2[3:]=100              # this will update all elements from 3rd index to value 100 (this is also known as broadcasting)\n",
    "arr2"
   ]
  },
  {
   "cell_type": "code",
   "execution_count": 51,
   "id": "ae8a0275",
   "metadata": {},
   "outputs": [
    {
     "name": "stdout",
     "output_type": "stream",
     "text": [
      "arr2=  [ 0  2  4  6  8 10 12 14 16 18]\n",
      "arr3=  [ 0  2  4  6  8 10 12 14 16 18]\n"
     ]
    }
   ],
   "source": [
    "arr2=arr3                 # both will have same values now\n",
    "\n",
    "arr2[3:]=500 "
   ]
  },
  {
   "cell_type": "code",
   "execution_count": 53,
   "id": "128c2623",
   "metadata": {},
   "outputs": [
    {
     "data": {
      "text/plain": [
       "array([  0,   2,   4, 500, 500, 500, 500, 500, 500, 500])"
      ]
     },
     "execution_count": 53,
     "metadata": {},
     "output_type": "execute_result"
    }
   ],
   "source": [
    "arr2[3:]=500               # this will change the values in both arrays\n",
    "arr2"
   ]
  },
  {
   "cell_type": "code",
   "execution_count": 55,
   "id": "3a135509",
   "metadata": {},
   "outputs": [
    {
     "name": "stdout",
     "output_type": "stream",
     "text": [
      "arr3=  [  0   2   4 500 500 500 500 500 500 500]\n"
     ]
    }
   ],
   "source": [
    "print(\"arr3= \", arr3)     # this happens because arrays in python are of reference type (to avoid this we use copy)"
   ]
  },
  {
   "cell_type": "code",
   "execution_count": 56,
   "id": "2a65c06e",
   "metadata": {},
   "outputs": [
    {
     "name": "stdout",
     "output_type": "stream",
     "text": [
      "arr2=  [   0    2    4 1000 1000 1000 1000 1000 1000 1000]\n",
      "arr3=  [  0   2   4 500 500 500 500 500 500 500]\n"
     ]
    }
   ],
   "source": [
    "arr2=arr3.copy()          # to avoid the above problem we use copy function\n",
    "arr2[3:]=1000\n",
    "\n",
    "print(\"arr2= \", arr2)\n",
    "print(\"arr3= \", arr3)"
   ]
  },
  {
   "cell_type": "code",
   "execution_count": 58,
   "id": "d1a74991",
   "metadata": {},
   "outputs": [
    {
     "name": "stdout",
     "output_type": "stream",
     "text": [
      "[1 2 3 4 5 6 7 8 9]\n",
      "[ 2  4  6  8 10 12 14 16 18]\n",
      "[0.5 1.  1.5 2.  2.5 3.  3.5 4.  4.5]\n",
      "[False False  True  True  True  True  True  True  True]\n",
      "[3 4 5 6 7 8 9]\n"
     ]
    }
   ],
   "source": [
    "\n",
    "new_arr=np.arange(1,10)\n",
    "print(new_arr)\n",
    "print(new_arr*2)               # will multiply all elements by 2\n",
    "print(new_arr/2)               # will divide all elements by 2\n",
    "print(new_arr>2)               # will return true if greater than 2 else will return false\n",
    "print(new_arr[new_arr>2])      # will return all the elements greater than 2\n"
   ]
  },
  {
   "cell_type": "code",
   "execution_count": 60,
   "id": "36a00785",
   "metadata": {},
   "outputs": [
    {
     "data": {
      "text/plain": [
       "array([[ 0,  1,  2,  3,  4],\n",
       "       [ 5,  6,  7,  8,  9],\n",
       "       [10, 11, 12, 13, 14],\n",
       "       [15, 16, 17, 18, 19]])"
      ]
     },
     "execution_count": 60,
     "metadata": {},
     "output_type": "execute_result"
    }
   ],
   "source": [
    "abcd= np.arange(0,20).reshape(4,5)\n",
    "abcd"
   ]
  },
  {
   "cell_type": "code",
   "execution_count": 61,
   "id": "2ef7d5ef",
   "metadata": {},
   "outputs": [
    {
     "data": {
      "text/plain": [
       "array([1., 1., 1., 1.])"
      ]
     },
     "execution_count": 61,
     "metadata": {},
     "output_type": "execute_result"
    }
   ],
   "source": [
    "np.ones(4,dtype=float)                 # will create array with all values as one"
   ]
  },
  {
   "cell_type": "code",
   "execution_count": 63,
   "id": "617df499",
   "metadata": {},
   "outputs": [
    {
     "data": {
      "text/plain": [
       "array([[1, 1, 1, 1, 1],\n",
       "       [1, 1, 1, 1, 1]])"
      ]
     },
     "execution_count": 63,
     "metadata": {},
     "output_type": "execute_result"
    }
   ],
   "source": [
    "np.ones((2,5),dtype=int)               # will create multidimensional array with all values as one"
   ]
  },
  {
   "cell_type": "code",
   "execution_count": 65,
   "id": "22ddd360",
   "metadata": {},
   "outputs": [
    {
     "name": "stdout",
     "output_type": "stream",
     "text": [
      "[[0.06817241 0.4429101 ]\n",
      " [0.16885588 0.47178245]\n",
      " [0.270158   0.30731821]]\n"
     ]
    }
   ],
   "source": [
    "abc=np.random.rand(3,2)          # will create random values in the specified shape(all the random elemnets will be between 0&1)\n",
    "print(abc)                       # this is based on random distribution "
   ]
  },
  {
   "cell_type": "code",
   "execution_count": 66,
   "id": "7e6b147c",
   "metadata": {},
   "outputs": [
    {
     "data": {
      "text/plain": [
       "array([[-0.12748445,  0.48538913],\n",
       "       [ 0.4646119 ,  0.95683701]])"
      ]
     },
     "execution_count": 66,
     "metadata": {},
     "output_type": "execute_result"
    }
   ],
   "source": [
    "np.random.randn(2,2)             # same as above (but based on standard distribution)"
   ]
  },
  {
   "cell_type": "code",
   "execution_count": 68,
   "id": "1be13c5f",
   "metadata": {},
   "outputs": [
    {
     "data": {
      "text/plain": [
       "array([21, 56,  1, 75, 55, 66, 79, 44])"
      ]
     },
     "execution_count": 68,
     "metadata": {},
     "output_type": "execute_result"
    }
   ],
   "source": [
    "np.random.randint(0,100,8)       # in this 8 integers between 0-100 will be randomly chosen"
   ]
  },
  {
   "cell_type": "code",
   "execution_count": 71,
   "id": "cae1cb2e",
   "metadata": {},
   "outputs": [
    {
     "data": {
      "text/plain": [
       "array([[56, 67, 81, 96, 11],\n",
       "       [29,  5, 65,  4, 42]])"
      ]
     },
     "execution_count": 71,
     "metadata": {},
     "output_type": "execute_result"
    }
   ],
   "source": [
    "np.random.randint(0,100,10).reshape(2,5)"
   ]
  },
  {
   "cell_type": "code",
   "execution_count": 74,
   "id": "30e27d12",
   "metadata": {},
   "outputs": [
    {
     "data": {
      "text/plain": [
       "array([[0.84179948, 0.85888066, 0.53849397, 0.17281067, 0.32474171]])"
      ]
     },
     "execution_count": 74,
     "metadata": {},
     "output_type": "execute_result"
    }
   ],
   "source": [
    "np.random.random_sample((1,5))                # return random float values between 0-1 (here 1,5 is the shape provided)   "
   ]
  },
  {
   "cell_type": "code",
   "execution_count": 10,
   "id": "a1f464a3",
   "metadata": {},
   "outputs": [
    {
     "data": {
      "text/plain": [
       "(4, 2)"
      ]
     },
     "execution_count": 10,
     "metadata": {},
     "output_type": "execute_result"
    }
   ],
   "source": [
    "a=np.array([[1,1],[1,2],\n",
    "           [2,1],[2,2]], dtype=float)        # with help of dtype we can change the data type of an array\n",
    "a.shape"
   ]
  },
  {
   "cell_type": "code",
   "execution_count": 11,
   "id": "8b940ff3",
   "metadata": {},
   "outputs": [
    {
     "data": {
      "text/plain": [
       "array([[1., 1., 1., 2.],\n",
       "       [2., 1., 2., 2.]])"
      ]
     },
     "execution_count": 11,
     "metadata": {},
     "output_type": "execute_result"
    }
   ],
   "source": [
    "a.reshape(2,4)"
   ]
  },
  {
   "cell_type": "code",
   "execution_count": 9,
   "id": "86881ace",
   "metadata": {},
   "outputs": [
    {
     "data": {
      "text/plain": [
       "2"
      ]
     },
     "execution_count": 9,
     "metadata": {},
     "output_type": "execute_result"
    }
   ],
   "source": [
    "a.ndim                                      # ndim function is used to know the dimension of array"
   ]
  },
  {
   "cell_type": "code",
   "execution_count": 15,
   "id": "bac362ca",
   "metadata": {},
   "outputs": [
    {
     "data": {
      "text/plain": [
       "array([1, 3, 5, 7, 9])"
      ]
     },
     "execution_count": 15,
     "metadata": {},
     "output_type": "execute_result"
    }
   ],
   "source": [
    "b=np.arange(1,10,2)\n",
    "b"
   ]
  },
  {
   "cell_type": "code",
   "execution_count": 20,
   "id": "96fa71e9",
   "metadata": {},
   "outputs": [
    {
     "name": "stdout",
     "output_type": "stream",
     "text": [
      "max=  9\n",
      "min=  1\n",
      "sum=  25\n",
      "mean=  5.0\n",
      "standard deviation=  2.8284271247461903\n"
     ]
    }
   ],
   "source": [
    "print(\"max= \",b.max())                   # to print maximum value in b\n",
    "print(\"min= \",b.min())                   # to print minimum value in b\n",
    "print(\"sum= \",b.sum())                   # returns the sum of the values in array\n",
    "print(\"mean= \",b.mean())                 # returns mean(average) of the values in array\n",
    "print(\"standard deviation= \",b.std())    # returns standard deviation of the values in array\n"
   ]
  },
  {
   "cell_type": "code",
   "execution_count": null,
   "id": "594d62d8",
   "metadata": {},
   "outputs": [],
   "source": []
  }
 ],
 "metadata": {
  "kernelspec": {
   "display_name": "Python 3 (ipykernel)",
   "language": "python",
   "name": "python3"
  },
  "language_info": {
   "codemirror_mode": {
    "name": "ipython",
    "version": 3
   },
   "file_extension": ".py",
   "mimetype": "text/x-python",
   "name": "python",
   "nbconvert_exporter": "python",
   "pygments_lexer": "ipython3",
   "version": "3.9.7"
  }
 },
 "nbformat": 4,
 "nbformat_minor": 5
}
